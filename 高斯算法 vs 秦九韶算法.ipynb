{
 "cells": [
  {
   "cell_type": "code",
   "execution_count": null,
   "metadata": {},
   "outputs": [],
   "source": []
  },
  {
   "cell_type": "code",
   "execution_count": 7,
   "metadata": {},
   "outputs": [
    {
     "name": "stdout",
     "output_type": "stream",
     "text": [
      "(1240, 15)\n",
      "True\n"
     ]
    }
   ],
   "source": [
    "# 随机生成n个数   \n",
    "# 生成的数在0-100之间\n",
    "# 高斯求和\n",
    "# 计算次数比较\n",
    "import random\n",
    "def sum_n(n,x):\n",
    "    ans = 0\n",
    "    num = 0\n",
    "    l = []\n",
    "    for i in range(n):\n",
    "        l.append(random.randint(0, 100))\n",
    "    for i in range(0,n):\n",
    "        \n",
    "        ans =  ans +l[i] * x^(i)\n",
    "        num = num + i + 1\n",
    "    \n",
    "    return ans,num\n",
    "\n",
    "    \n",
    "n = int(input(\"请输入n:\"))\n",
    "x = int(input(\"请输入x:\"))\n",
    "ans = sum_n(n,x)\n",
    "print(ans)\n",
    "\n",
    "print( ans[1] == (n*(n+1)/2) )\n",
    "\n"
   ]
  },
  {
   "cell_type": "code",
   "execution_count": 9,
   "metadata": {},
   "outputs": [
    {
     "name": "stdout",
     "output_type": "stream",
     "text": [
      "(24123, 10)\n",
      "False\n"
     ]
    }
   ],
   "source": [
    "# 秦九韶算法\n",
    "\n",
    "def qin_wine(n,x):\n",
    "    ans = 0\n",
    "    num = 0\n",
    "    l = []\n",
    "    for i in range(n):\n",
    "        l.append(random.randint(0, 100))\n",
    "    for i in range(0,n):\n",
    "        ans = ans * x + l[i]\n",
    "        num = num + 2\n",
    "    \n",
    "    return ans,num\n",
    "\n",
    "x= int(input(\"请输入x:\"))\n",
    "n = int(input(\"请输入n:\"))\n",
    "ans = qin_wine(n,x)\n",
    "print(ans)\n",
    "\n",
    "print( ans[1] == n )"
   ]
  }
 ],
 "metadata": {
  "kernelspec": {
   "display_name": "base",
   "language": "python",
   "name": "python3"
  },
  "language_info": {
   "codemirror_mode": {
    "name": "ipython",
    "version": 3
   },
   "file_extension": ".py",
   "mimetype": "text/x-python",
   "name": "python",
   "nbconvert_exporter": "python",
   "pygments_lexer": "ipython3",
   "version": "3.12.7"
  }
 },
 "nbformat": 4,
 "nbformat_minor": 2
}
